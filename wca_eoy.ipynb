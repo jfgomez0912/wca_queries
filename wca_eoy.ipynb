{
    "cells": [
        {
            "cell_type": "markdown",
            "metadata": {},
            "source": [
                "# WCA - Resumen del 2024\n"
            ]
        },
        {
            "cell_type": "code",
            "execution_count": null,
            "metadata": {},
            "outputs": [],
            "source": [
                "# Imports\n",
                "\n",
                "from pathlib import Path\n",
                "\n",
                "import pandas as pd\n",
                "from sqlalchemy import create_engine"
            ]
        },
        {
            "cell_type": "code",
            "execution_count": null,
            "metadata": {},
            "outputs": [],
            "source": [
                "## Database\n",
                "\n",
                "user = \"user\"\n",
                "password = \"pass\"\n",
                "host = \"127.0.0.1\"\n",
                "port = 3307\n",
                "database = \"wca_db\"\n",
                "\n",
                "conn_str = f\"mariadb+mariadbconnector://{user}:{password}@{host}:{port}/{database}\"\n",
                "engine = create_engine(conn_str)"
            ]
        },
        {
            "cell_type": "markdown",
            "metadata": {},
            "source": [
                "## Reportes\n"
            ]
        },
        {
            "cell_type": "code",
            "execution_count": null,
            "metadata": {},
            "outputs": [],
            "source": [
                "# Global Variables\n",
                "\n",
                "COUNTRY = \"Colombia\"\n",
                "YEAR = 2025"
            ]
        },
        {
            "cell_type": "code",
            "execution_count": null,
            "metadata": {},
            "outputs": [],
            "source": [
                "def process_report(name: str, query: str) -> pd.DataFrame:\n",
                "    df = pd.read_sql_query(query, engine)\n",
                "\n",
                "    dst_file = Path(f\"output/{COUNTRY}/{name}.csv\")\n",
                "    dst_file.parent.mkdir(parents=True, exist_ok=True)\n",
                "\n",
                "    df.to_csv(dst_file, sep=\";\", index=False)\n",
                "    print(\"Results saved in\", dst_file)\n",
                "\n",
                "    return df"
            ]
        },
        {
            "cell_type": "markdown",
            "metadata": {},
            "source": [
                "### 1. Top de competidores con más podios\n"
            ]
        },
        {
            "cell_type": "code",
            "execution_count": null,
            "metadata": {},
            "outputs": [],
            "source": [
                "df = process_report(\n",
                "    \"1 - Top de competidores con más podios\",\n",
                "    f\"\"\"\n",
                "        select r.personName nombre, count(*) conteo\n",
                "        from Results r\n",
                "        join Competitions c on r.competitionId = c.id\n",
                "        where 1=1\n",
                "        and c.year = {YEAR}\n",
                "        -- and c.countryId = '{COUNTRY}'\n",
                "        and r.personCountryId = '{COUNTRY}'\n",
                "        and r.roundTypeId in ('f', 'b', 'c')\n",
                "        and r.pos in ('1', '2', '3')\n",
                "        group by 1\n",
                "        order by 2 desc\n",
                "        limit 50\n",
                "    \"\"\",\n",
                ")\n",
                "df.head(10)"
            ]
        },
        {
            "cell_type": "markdown",
            "metadata": {},
            "source": [
                "### 2. Top de competidores con más podios en una competencia\n"
            ]
        },
        {
            "cell_type": "code",
            "execution_count": null,
            "metadata": {},
            "outputs": [],
            "source": [
                "df = process_report(\n",
                "    \"2 - Top de competidores con más podios en una competencia\",\n",
                "    f\"\"\"\n",
                "        with p1 as (\n",
                "            select\n",
                "                r.personName nombre,\n",
                "                c.name competencia,\n",
                "                c.month mes,\n",
                "                c.day dia,\n",
                "                count(*) conteo\n",
                "            from Results r\n",
                "            join Competitions c on r.competitionId = c.id\n",
                "            where 1=1\n",
                "            and c.year = {YEAR}\n",
                "            -- and c.countryId = '{COUNTRY}'\n",
                "            and r.personCountryId = '{COUNTRY}'\n",
                "            and r.roundTypeId in ('f', 'b', 'c')\n",
                "            and r.pos in ('1', '2', '3')\n",
                "            group by 1, 2\n",
                "        ), p2 as (\n",
                "            select *, row_number() over (partition by nombre order by conteo desc, mes, dia) rn\n",
                "            from p1\n",
                "        )\n",
                "        select p2.nombre, p2.competencia, p2.conteo\n",
                "        from p2 where rn = 1\n",
                "        order by 3 desc, p2.mes, p2.dia\n",
                "        limit 50\n",
                "    \"\"\",\n",
                ")\n",
                "df.head(10)"
            ]
        },
        {
            "cell_type": "markdown",
            "metadata": {},
            "source": [
                "### 3. Top de competidores con más oros\n"
            ]
        },
        {
            "cell_type": "code",
            "execution_count": null,
            "metadata": {},
            "outputs": [],
            "source": [
                "df = process_report(\n",
                "    \"3 - Top de competidores con más oros\",\n",
                "    f\"\"\"\n",
                "        select r.personName nombre, count(*) conteo\n",
                "        from Results r\n",
                "        join Competitions c on r.competitionId = c.id\n",
                "        where 1=1\n",
                "        and c.year = {YEAR}\n",
                "        -- and c.countryId = '{COUNTRY}'\n",
                "        and r.personCountryId = '{COUNTRY}'\n",
                "        and r.roundTypeId in ('f', 'b', 'c')\n",
                "        and r.pos = '1'\n",
                "        group by 1\n",
                "        order by 2 desc\n",
                "        limit 50\n",
                "    \"\"\",\n",
                ")\n",
                "df.head(10)"
            ]
        },
        {
            "cell_type": "markdown",
            "metadata": {},
            "source": [
                "### 4. Top de competidores con más oros en una competencia\n"
            ]
        },
        {
            "cell_type": "code",
            "execution_count": null,
            "metadata": {},
            "outputs": [],
            "source": [
                "df = process_report(\n",
                "    \"4 - Top de competidores con más oros en una competencia\",\n",
                "    f\"\"\"\n",
                "        with o1 as (\n",
                "            select\n",
                "                r.personName nombre,\n",
                "                c.name competencia,\n",
                "                c.month mes,\n",
                "                c.day dia,\n",
                "                count(*) conteo\n",
                "            from Results r\n",
                "            join Competitions c on r.competitionId = c.id\n",
                "            where 1=1\n",
                "            and c.year = {YEAR}\n",
                "            -- and c.countryId = '{COUNTRY}'\n",
                "            and r.personCountryId = '{COUNTRY}'\n",
                "            and r.roundTypeId in ('f', 'b', 'c')\n",
                "            and r.pos = '1'\n",
                "            group by 1, 2\n",
                "        ), o2 as (\n",
                "            select *, row_number() over (partition by nombre order by conteo desc, mes, dia) rn\n",
                "            from o1\n",
                "        )\n",
                "        select o2.nombre, o2.competencia, o2.conteo\n",
                "        from o2 where rn = 1\n",
                "        order by 3 desc, o2.mes, o2.dia\n",
                "        limit 50\n",
                "    \"\"\",\n",
                ")\n",
                "df.head(10)"
            ]
        },
        {
            "cell_type": "markdown",
            "metadata": {},
            "source": [
                "### 5. Top PPT ponderado\n"
            ]
        },
        {
            "cell_type": "code",
            "execution_count": null,
            "metadata": {},
            "outputs": [],
            "source": [
                "df = process_report(\n",
                "    \"5 - Top PPT ponderado\",\n",
                "    f\"\"\"\n",
                "        with pods as (\n",
                "            select\n",
                "                r.personName nombre,\n",
                "                count(case when r.pos = '1' then 1 else null end) as oros,\n",
                "                count(case when r.pos = '2' then 1 else null end) as platas,\n",
                "                count(case when r.pos = '3' then 1 else null end) as bronces,\n",
                "                sum(4-r.pos) puntos\n",
                "            from Results r\n",
                "            join Competitions c on r.competitionId = c.id\n",
                "            where 1=1\n",
                "            and c.year = {YEAR}\n",
                "            -- and c.countryId = '{COUNTRY}'\n",
                "            and r.personCountryId = '{COUNTRY}'\n",
                "            and r.roundTypeId in ('f', 'b', 'c')\n",
                "            and r.pos in ('1', '2', '3')\n",
                "            and r.best != '-1'\n",
                "            group by 1\n",
                "        ), comps as (\n",
                "            select r.personName, count(distinct r.competitionId) cnt\n",
                "            from Results r\n",
                "            join Competitions c on r.competitionId = c.id\n",
                "            where 1=1\n",
                "            and c.year = {YEAR}\n",
                "            -- and c.countryId = '{COUNTRY}'\n",
                "            and r.personCountryId = '{COUNTRY}'\n",
                "            group by 1\n",
                "        )\n",
                "        select p.*, c.cnt comps, p.puntos/c.cnt ppt\n",
                "        from pods p\n",
                "        join comps c on p.nombre = c.personName\n",
                "        -- where c.cnt >= 2\n",
                "        order by 7 desc\n",
                "        limit 50\n",
                "    \"\"\",\n",
                ")\n",
                "df.head(10)"
            ]
        },
        {
            "cell_type": "markdown",
            "metadata": {},
            "source": [
                "### 6. Top de competidores con más competencias\n"
            ]
        },
        {
            "cell_type": "code",
            "execution_count": null,
            "metadata": {},
            "outputs": [],
            "source": [
                "df = process_report(\n",
                "    \"6 - Top de competidores con más competencias\",\n",
                "    f\"\"\"\n",
                "        select r.personName nombre, count(distinct r.competitionId) conteo\n",
                "        from Results r\n",
                "        join Competitions c on r.competitionId = c.id\n",
                "        where 1=1\n",
                "        and c.year = {YEAR}\n",
                "        -- and c.countryId = '{COUNTRY}'\n",
                "        and r.personCountryId = '{COUNTRY}'\n",
                "        group by 1\n",
                "        order by 2 desc\n",
                "        limit 50\n",
                "    \"\"\",\n",
                ")\n",
                "df.head(10)"
            ]
        },
        {
            "cell_type": "markdown",
            "metadata": {},
            "source": [
                "### 7. Top de competidores con más ciudades visitadas\n"
            ]
        },
        {
            "cell_type": "code",
            "execution_count": null,
            "metadata": {},
            "outputs": [],
            "source": [
                "df = process_report(\n",
                "    \"7 - Top de competidores con más ciudades visitadas\",\n",
                "    f\"\"\"\n",
                "        with cities as (\n",
                "            select distinct\n",
                "                r.personName,\n",
                "                c.cityName,\n",
                "                case\n",
                "                    when c.cityName in ('Bogotá', 'Bogotá D.C.', 'Bogotá, Cundinamarca') then 'Bogotá, Cundinamarca'\n",
                "                    when c.cityName in ('Quimbaya') then 'Quimbaya, Quindío'\n",
                "                    when c.cityName in ('Bucaramanga') then 'Bucaramanga, Santander'\n",
                "                    when c.cityName in ('Mosquera') then 'Mosquera, Cundinamarca'\n",
                "                    when c.cityName in ('Tunja') then 'Tunja, Boyacá'\n",
                "                    when c.cityName in ('San Gil') then 'San Gil, Santander'\n",
                "                    when c.cityName in ('Pereira') then 'Pereira, Risaralda'\n",
                "                    when c.cityName in ('Neiva') then 'Neiva, Huila'\n",
                "                    when c.cityName in ('Melgar') then 'Melgar, Tolima'\n",
                "                    when c.cityName in ('Medellín - Antioquia', 'Medellin') then 'Medellín, Antioquia'\n",
                "                    when c.cityName in ('La Estrella') then 'La Estrella, Antioquia'\n",
                "                    when c.cityName in ('Floridablanca') then 'Floridablanca, Santander'\n",
                "                    when c.cityName in ('El Carmen De Viboral') then 'El Carmen de Viboral, Antioquia'\n",
                "                    when c.cityName in ('Cartagena') then 'Cartagena, Bolivar'\n",
                "                    when c.cityName in ('Villavicencio') then 'Villavicencio, Meta'\n",
                "                    when c.cityName in ('Florencia') then 'Florencia, Caquetá'\n",
                "                    when c.cityName in ('Barrancabermeja') then 'Barrancabermeja, Santander'\n",
                "                    when c.cityName in ('Cartago') then 'Cartago, Valle del Cauca'\n",
                "                    when c.cityName in ('Chocontá') then 'Chocontá, Cundinamarca'\n",
                "                    when c.cityName in ('La Sierra, Quipile, Cundinamarca') then 'La Sierra, Cundinamarca'\n",
                "                    else replace(c.cityName, '.', '')\n",
                "                end as normalized_city\n",
                "            from Results r\n",
                "            join Competitions c on r.competitionId = c.id\n",
                "            where 1=1\n",
                "            and c.cityName not in ('Multiple cities', 'Multiple locations')\n",
                "            and c.year = {YEAR}\n",
                "            -- and c.countryId = '{COUNTRY}'\n",
                "            and r.personCountryId = '{COUNTRY}'\n",
                "            order by normalized_city\n",
                "        )\n",
                "        select\n",
                "            personName nombre,\n",
                "            count(distinct normalized_city) conteo\n",
                "        from cities\n",
                "        group by 1\n",
                "        order by 2 desc\n",
                "        limit 50\n",
                "    \"\"\",\n",
                ")\n",
                "df.head(10)"
            ]
        },
        {
            "cell_type": "markdown",
            "metadata": {},
            "source": [
                "### 8. Número de novatos en el año\n"
            ]
        },
        {
            "cell_type": "code",
            "execution_count": null,
            "metadata": {},
            "outputs": [],
            "source": [
                "df = process_report(\n",
                "    \"8 - Numero de novatos en el año\",\n",
                "    f\"\"\"\n",
                "        select\n",
                "            count(*) conteo\n",
                "        from Persons p\n",
                "        where 1=1\n",
                "        and p.countryId = '{COUNTRY}'\n",
                "        and p.id like '{YEAR}%'\n",
                "    \"\"\",\n",
                ")\n",
                "df.head(10)"
            ]
        },
        {
            "cell_type": "markdown",
            "metadata": {},
            "source": [
                "### 9. Top de novatos más rápidos en 333\n"
            ]
        },
        {
            "cell_type": "code",
            "execution_count": null,
            "metadata": {},
            "outputs": [],
            "source": [
                "df = process_report(\n",
                "    \"9 - Top de novatos más rápidos en 333\",\n",
                "    f\"\"\"\n",
                "        with n as (\n",
                "            select\n",
                "                r.personId,\n",
                "                r.personName,\n",
                "                c.name,\n",
                "                c.cityName,\n",
                "                c.countryId,\n",
                "                r.average,\n",
                "                rank() over (partition by r.personId order by c.year, c.month, c.day, r.average) rnk\n",
                "            from Results r\n",
                "            join Competitions c on c.id = r.competitionId\n",
                "            where 1=1\n",
                "            and r.personId like '{YEAR}%'\n",
                "            and r.personCountryId = '{COUNTRY}'\n",
                "            and r.eventId = '333'\n",
                "            and r.average != -1\n",
                "        )\n",
                "        select\n",
                "            n.personId wca_id,\n",
                "            n.personName nombre,\n",
                "            n.name torneo,\n",
                "            n.cityName ciudad,\n",
                "            n.countryId pais,\n",
                "            n.average avg\n",
                "        from n\n",
                "        where n.rnk = 1\n",
                "        order by n.average\n",
                "        limit 50\n",
                "    \"\"\",\n",
                ")\n",
                "df.head(10)"
            ]
        },
        {
            "cell_type": "markdown",
            "metadata": {},
            "source": [
                "### 10. Top torneos con más novatos\n"
            ]
        },
        {
            "cell_type": "code",
            "execution_count": null,
            "metadata": {},
            "outputs": [],
            "source": [
                "df = process_report(\n",
                "    \"10 - Top torneos con más novatos\",\n",
                "    f\"\"\"\n",
                "        with n as (\n",
                "            select\n",
                "                c.name,\n",
                "                c.cityName,\n",
                "                r.personId,\n",
                "                rank() over (partition by r.personId order by c.year, c.month, c.day) rnk\n",
                "            from Results r\n",
                "            join Competitions c on c.id = r.competitionId\n",
                "            where 1=1\n",
                "            and r.personId like '{YEAR}%'\n",
                "            and c.countryId = '{COUNTRY}'\n",
                "        ), nc as (\n",
                "            select distinct *\n",
                "            from n\n",
                "            where rnk = 1\n",
                "        )\n",
                "        select\n",
                "            name competencia,\n",
                "            cityName ciudad,\n",
                "            count(*) conteo\n",
                "        from nc\n",
                "        group by 1\n",
                "        order by 3 desc\n",
                "        limit 50\n",
                "    \"\"\",\n",
                ")\n",
                "df.head(10)"
            ]
        },
        {
            "cell_type": "markdown",
            "metadata": {},
            "source": [
                "### 11. Records del año\n"
            ]
        },
        {
            "cell_type": "code",
            "execution_count": null,
            "metadata": {},
            "outputs": [],
            "source": [
                "df = process_report(\n",
                "    \"11 - Records del año\",\n",
                "    f\"\"\"\n",
                "        with r as (\n",
                "            select\n",
                "                r.*,\n",
                "                case\n",
                "                    when regionalSingleRecord is not null and regionalAverageRecord is not null then 2\n",
                "                    when regionalSingleRecord is not null then 1\n",
                "                    when regionalAverageRecord is not null then 1\n",
                "                    else 0\n",
                "                end records\n",
                "            from Results r\n",
                "            join Competitions c on c.id = r.competitionId\n",
                "            where 1=1\n",
                "            and (r.regionalSingleRecord is not null or r.regionalAverageRecord is not null)\n",
                "            and r.personCountryId = '{COUNTRY}'\n",
                "            and c.year = {YEAR}\n",
                "        )\n",
                "        select personName nombre, sum(records) conteo\n",
                "        from r\n",
                "        group by 1\n",
                "        order by 2 desc\n",
                "    \"\"\",\n",
                ")\n",
                "df.head(10)"
            ]
        },
        {
            "cell_type": "markdown",
            "metadata": {},
            "source": [
                "### 12. Top mujeres 333\n"
            ]
        },
        {
            "cell_type": "code",
            "execution_count": null,
            "metadata": {},
            "outputs": [],
            "source": [
                "df = process_report(\n",
                "    \"12 - Top mujeres 333\",\n",
                "    f\"\"\"\n",
                "        with f as (\n",
                "            select *\n",
                "            from Persons p\n",
                "            where 1=1\n",
                "            and p.gender = 'f'\n",
                "            and p.countryId = '{COUNTRY}'\n",
                "        ), r as (\n",
                "            select r.personId, min(r.average) avg\n",
                "            from Competitions c\n",
                "            join Results r on r.competitionId = c.id\n",
                "            where 1=1\n",
                "            and r.average != -1\n",
                "            and c.year = {YEAR}\n",
                "            and r.eventId = '333'\n",
                "            and r.personCountryId = '{COUNTRY}'\n",
                "            group by 1\n",
                "        )\n",
                "        select f.id wca_id, f.name nombre, r.avg\n",
                "        from r\n",
                "        join f on f.id = r.personId\n",
                "        order by 3\n",
                "        limit 50\n",
                "    \"\"\",\n",
                ")\n",
                "df.head(10)"
            ]
        },
        {
            "cell_type": "code",
            "execution_count": null,
            "metadata": {},
            "outputs": [],
            "source": [
                "# !jupyter nbconvert --to html wca_eoy_2024.ipynb;"
            ]
        }
    ],
    "metadata": {
        "kernelspec": {
            "display_name": ".venv",
            "language": "python",
            "name": "python3"
        },
        "language_info": {
            "codemirror_mode": {
                "name": "ipython",
                "version": 3
            },
            "file_extension": ".py",
            "mimetype": "text/x-python",
            "name": "python",
            "nbconvert_exporter": "python",
            "pygments_lexer": "ipython3",
            "version": "3.13.3"
        }
    },
    "nbformat": 4,
    "nbformat_minor": 2
}
